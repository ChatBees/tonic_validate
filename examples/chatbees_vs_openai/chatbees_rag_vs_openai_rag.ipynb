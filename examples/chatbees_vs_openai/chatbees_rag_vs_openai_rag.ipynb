{
 "cells": [
  {
   "cell_type": "markdown",
   "metadata": {
    "id": "T0o-4pVNHKDt"
   },
   "source": [
    "### Setup"
   ]
  },
  {
   "cell_type": "code",
   "execution_count": 3,
   "metadata": {
    "id": "g-z_1VNFHKDv"
   },
   "outputs": [],
   "source": [
    "from typing import List\n",
    "from openai import OpenAI\n",
    "from tonic_validate import ValidateScorer, Benchmark, BenchmarkItem, LLMResponse, BenchmarkItem, Run\n",
    "from tonic_validate.metrics import AnswerSimilarityMetric\n",
    "from concurrent.futures import ThreadPoolExecutor\n",
    "from tqdm import tqdm\n",
    "import os\n",
    "import time\n",
    "import json\n",
    "import pandas as pd\n",
    "import matplotlib.pyplot as plt\n",
    "\n",
    "#os.environ['OPENAI_API_KEY'] = Your openai key\"\n",
    "\n",
    "\n",
    "with open(\"qa_pairs.json\", \"r\") as f:\n",
    "    qa_pairs = json.load(f)\n",
    "\n",
    "# for testing\n",
    "qa_pairs = qa_pairs\n",
    "\n",
    "benchmark = Benchmark(\n",
    "    questions=[x[\"question\"] for x in qa_pairs],\n",
    "    answers=[x[\"answer\"] for x in qa_pairs]\n",
    ")\n",
    "\n",
    "def run_to_dataframe(run: Run) -> pd.DataFrame:\n",
    "    return pd.DataFrame(\n",
    "        {\n",
    "            \"reference_question\": [x.reference_question for x in run.run_data],\n",
    "            \"reference_answer\": [x.reference_answer for x in run.run_data],\n",
    "            \"llm_answer\": [x.llm_answer for x in run.run_data],\n",
    "            \"llm_context\": [json.dumps(x.llm_context) for x in run.run_data],\n",
    "            \"answer_similarity\": [x.scores[\"answer_similarity\"] for x in run.run_data]\n",
    "        }\n",
    "    )\n"
   ]
  },
  {
   "cell_type": "markdown",
   "metadata": {
    "id": "OcsKPLRTHKDv"
   },
   "source": [
    "### ChatBees chat\n"
   ]
  },
  {
   "cell_type": "markdown",
   "metadata": {
    "id": "OHxCvqIzHKDw"
   },
   "source": [
    "#### Setup"
   ]
  },
  {
   "cell_type": "code",
   "execution_count": 6,
   "metadata": {
    "id": "Sntzr9vUHKDw"
   },
   "outputs": [],
   "source": [
    "# Uncomment to install required dependencies\n",
    "#!pip install chatbees-python-client\n",
    "#!pip install shortuuid\n",
    "\n",
    "import chatbees as cb\n",
    "import shortuuid\n",
    "\n",
    "\n",
    "def get_cb_rag_response(benchmarkItem: BenchmarkItem, collection):\n",
    "    prompt = benchmarkItem.question\n",
    "    max_retries = 3\n",
    "    run_count = 0\n",
    "\n",
    "    while run_count < max_retries:\n",
    "        try:\n",
    "            response, _ = collection.ask(prompt)\n",
    "            return response\n",
    "        except Exception as e:\n",
    "            run_count += 1\n",
    "            time.sleep(2)\n",
    "\n",
    "def create_collection():\n",
    "    \"\"\"\n",
    "    Creates a collection and uploads all essays\n",
    "    \"\"\"\n",
    "    apikey = cb.create_api_key()\n",
    "    cb.init(api_key=apikey)\n",
    "\n",
    "    # create collection and upload doc\n",
    "    col = cb.create_collection(cb.Collection(name='tonic_test' + shortuuid.uuid()))\n",
    "    col.upload_document('./all_essays_in_single_file.txt')\n",
    "    return col\n",
    "\n",
    "collection = create_collection()"
   ]
  },
  {
   "cell_type": "markdown",
   "metadata": {
    "id": "_7y3BWAlHKDw"
   },
   "source": [
    "#### Testing"
   ]
  },
  {
   "cell_type": "code",
   "execution_count": 8,
   "metadata": {
    "id": "S9dFrO85HKDw"
   },
   "outputs": [
    {
     "name": "stdout",
     "output_type": "stream",
     "text": [
      "According to Paul Graham, the key components necessary to create a technology hub are rich people and nerds. He mentions that these two types of individuals are essential in the creation of startups, as they are the limiting reagents in the reaction that produces startups.\n"
     ]
    }
   ],
   "source": [
    "\n",
    "benchmark_item = BenchmarkItem(\n",
    "    question=\"What key components are necessary to create a technology hub according to Paul Graham?\",\n",
    "    answer=\"\"\n",
    ")\n",
    "\n",
    "print(get_cb_rag_response(benchmark_item, collection))"
   ]
  },
  {
   "cell_type": "markdown",
   "metadata": {
    "id": "aU3dDuRCHKDx"
   },
   "source": [
    "##### Run through all the questions"
   ]
  },
  {
   "cell_type": "code",
   "execution_count": 14,
   "metadata": {
    "id": "HS_HHmByHKDx"
   },
   "outputs": [
    {
     "name": "stderr",
     "output_type": "stream",
     "text": [
      "100%|████████████████████████████████████████████████████████████████████████████████████████████████████████████████████████████████████████████████████████████████████████████████████████████████████████████████████████████████████████████████████████████████████████████████████████████████████████████████████████████████████████| 55/55 [05:11<00:00,  5.66s/it]\n"
     ]
    }
   ],
   "source": [
    "raw_cb_responses = []\n",
    "for x in tqdm(benchmark.items):\n",
    "    raw_cb_responses.append(get_cb_rag_response(x, collection))\n"
   ]
  },
  {
   "cell_type": "code",
   "execution_count": 15,
   "metadata": {
    "id": "oosHPNIeHKDy"
   },
   "outputs": [],
   "source": [
    "cb_responses = [\n",
    "    LLMResponse(\n",
    "        llm_answer=r, llm_context_list=[], benchmark_item=bi\n",
    "    ) for r, bi in zip(raw_cb_responses, benchmark.items)\n",
    "]"
   ]
  },
  {
   "cell_type": "code",
   "execution_count": 16,
   "metadata": {
    "id": "hKtK4EY9HKDy"
   },
   "outputs": [
    {
     "name": "stderr",
     "output_type": "stream",
     "text": [
      "Scoring responses: 100%|█████████████████████████████████████████████████████████████████████████████████████████████████████████████████████████████████████████████████████████████████████████████████████████████████████████████████████████████████████████████████████████████████████████████████████████████████████████████████████| 55/55 [00:09<00:00,  5.74it/s]\n"
     ]
    }
   ],
   "source": [
    "scorer = ValidateScorer([AnswerSimilarityMetric()])\n",
    "cb_run = scorer.score_run(cb_responses, parallelism=5)"
   ]
  },
  {
   "cell_type": "code",
   "execution_count": 17,
   "metadata": {
    "id": "jaPFJkngHKDy"
   },
   "outputs": [],
   "source": [
    "cb_run_df = run_to_dataframe(cb_run)\n",
    "cb_run_df.to_csv(\"cb_run.csv\", index=False)"
   ]
  },
  {
   "cell_type": "code",
   "execution_count": 18,
   "metadata": {
    "id": "_ouo4BP1HKDz"
   },
   "outputs": [
    {
     "data": {
      "image/png": "[encoded data removed]",
      "text/plain": [
       "<Figure size 640x480 with 1 Axes>"
      ]
     },
     "metadata": {},
     "output_type": "display_data"
    }
   ],
   "source": [
    "cb_answer_similarity_scores = pd.Series([x.scores[\"answer_similarity\"] for x in cb_run.run_data])\n",
    "category_counts = cb_answer_similarity_scores.value_counts()\n",
    "plt.bar(category_counts.index, category_counts.values)\n",
    "\n",
    "plt.title('Distribution of scores for Chatbees. Rerank + rephrase')\n",
    "plt.xlabel('Score')\n",
    "plt.ylabel('Count')\n",
    "\n",
    "plt.bar(category_counts.index, category_counts.values, color='#A679C8')\n",
    "\n",
    "# Remove all scores except whole numbers\n",
    "plt.xticks(range(0, 6, 1))\n",
    "\n",
    "plt.show()"
   ]
  },
  {
   "cell_type": "markdown",
   "metadata": {
    "id": "28jsFJCXHKDz"
   },
   "source": [
    "### OpenAI Rag Assistant"
   ]
  },
  {
   "cell_type": "markdown",
   "metadata": {
    "id": "5pQGqQRmHKDz"
   },
   "source": [
    "#### Setup"
   ]
  },
  {
   "cell_type": "code",
   "execution_count": 19,
   "metadata": {
    "id": "0y5Rs0riHKD0"
   },
   "outputs": [],
   "source": [
    "def get_openai_rag_response(benchmarkItem: BenchmarkItem, assistant):\n",
    "    prompt = benchmarkItem.question\n",
    "    thread = client.beta.threads.create(\n",
    "        messages=[\n",
    "            {\n",
    "                \"role\": \"user\",\n",
    "                \"content\": prompt\n",
    "            }\n",
    "        ]\n",
    "    )\n",
    "    run = client.beta.threads.runs.create(\n",
    "        thread_id=thread.id,\n",
    "        assistant_id=assistant.id,\n",
    "    )\n",
    "    max_retries = 10\n",
    "    base = 0.1\n",
    "    num_retries = 0\n",
    "    try:\n",
    "        while max_retries > 0:\n",
    "            if max_retries == 0:\n",
    "                client.beta.threads.delete(thread.id)\n",
    "                raise Exception(\"Max tries exceeded\")\n",
    "            messages = client.beta.threads.messages.list(\n",
    "                thread_id=thread.id,\n",
    "            )\n",
    "            if len(messages.data)>0 and len(messages.data[0].content)>0:\n",
    "                response_message = messages.data[0].content[0].text.value\n",
    "                if response_message != prompt and response_message.strip():\n",
    "                    annotations = messages.data[0].content[0].text.annotations\n",
    "                    quotes = [x.file_citation.quote for x in annotations if x.file_citation]\n",
    "                    client.beta.threads.delete(thread.id)\n",
    "                    return response_message\n",
    "            time.sleep(base * (2 ** num_retries))\n",
    "            num_retries += 1\n",
    "            max_retries -= 1\n",
    "    except Exception as e:\n",
    "        print(e)\n",
    "        client.beta.threads.delete(thread.id)\n",
    "        raise e\n",
    "\n",
    "#openai rag only supports a max of 20 files. So we just combine all essays into single file\n",
    "def upload_essay():\n",
    "    file_ids=[]\n",
    "    with open(\"all_essays_in_single_file.txt\", 'rb') as essay_file:\n",
    "        file = client.files.create(\n",
    "            file=essay_file,\n",
    "            purpose='assistants'\n",
    "        )\n",
    "        file_ids.append(file.id)\n",
    "    return file_ids\n",
    "\n",
    "def create_assistant(file_ids):\n",
    "    return client.beta.assistants.create(\n",
    "        name=f\"OpenAI Rag Test {len(file_ids)} Files\",\n",
    "        instructions=(\n",
    "            \"You are a chatbot that answers questions about Paul Graham's essays. \"\n",
    "            \"Use your knowledge base to best respond to questions. \"\n",
    "            \"NO MATTER WHAT, DO NOT PULL INFORMATION FROM EXTERNAL KNOWLEDGE. ONLY USE YOUR OWN KNOWLEDGE BASE.\"\n",
    "        ),\n",
    "        model=\"gpt-4-1106-preview\",\n",
    "        tools=[{\"type\": \"retrieval\"}],\n",
    "        file_ids=file_ids\n",
    "    )\n",
    "\n",
    "def setup_assistant():\n",
    "    file_ids = upload_essay()\n",
    "    return create_assistant(file_ids)\n",
    "\n",
    "# WARNING\n",
    "# this deletes all files associated with your openai api key.\n",
    "#def cleanup_files():\n",
    "#    for f in client.files.list():\n",
    "#        client.files.delete(f.id)\n",
    "#        time.sleep(1)"
   ]
  },
  {
   "cell_type": "markdown",
   "metadata": {
    "id": "OppxdEXMHKD0"
   },
   "source": [
    "#### Testing"
   ]
  },
  {
   "cell_type": "code",
   "execution_count": 20,
   "metadata": {
    "id": "_htm-vGVHKD0"
   },
   "outputs": [],
   "source": [
    "client = OpenAI()\n",
    "assistant = setup_assistant()"
   ]
  },
  {
   "cell_type": "code",
   "execution_count": 21,
   "metadata": {
    "id": "GIvH8slVHKD1"
   },
   "outputs": [
    {
     "name": "stdout",
     "output_type": "stream",
     "text": [
      "According to Paul Graham, certain key components are necessary to create a technology hub:\n",
      "\n",
      "1. The city must appeal to young people, particularly to the young nerds who start startups. It should feel young and vibrant, with an atmosphere that encourages innovation and creativity.\n",
      "\n",
      "2. The city should have an intact center, as opposed to abandoned city centers with growth focused only on the suburbs. Young people don't want to live in the suburbs; they are drawn to active and lively urban centers.\n",
      "\n",
      "3. A toleration of odd ideas and a liberal mindset are important because startups often begin with ideas that seem a bit crazy or unconventional. Liberal cities tend to be more accepting of these odd ideas, which is essential for a startup culture.\n",
      "\n",
      "4. Lastly, the city needs to offer an attractive lifestyle that smart people enjoy, with amenities like cafes, bookshops, and outdoor activities over glamour and glitz.\n",
      "\n",
      "This creates a welcoming environment for smart, innovative individuals to gather, share ideas, and create the organic growth needed for a successful startup community .\n"
     ]
    }
   ],
   "source": [
    "benchmark_item = BenchmarkItem(\n",
    "    question=\"What key components are necessary to create a technology hub according to Paul Graham?\",\n",
    "    answer=\"\"\n",
    ")\n",
    "\n",
    "print(get_openai_rag_response(benchmark_item, assistant))"
   ]
  },
  {
   "cell_type": "markdown",
   "metadata": {
    "id": "n6831C1JHKD1"
   },
   "source": [
    "##### Run through all the questions"
   ]
  },
  {
   "cell_type": "code",
   "execution_count": 22,
   "metadata": {
    "colab": {
     "base_uri": "https://localhost:8080/"
    },
    "id": "Ui6tWclTHKD1",
    "outputId": "369d0322-25d5-409a-b408-8c6e055e7383"
   },
   "outputs": [
    {
     "name": "stderr",
     "output_type": "stream",
     "text": [
      "100%|████████████████████████████████████████████████████████████████████████████████████████████████████████████████████████████████████████████████████████████████████████████████████████████████████████████████████████████████████████████████████████████████████████████████████████████████████████████████████████████████████████| 55/55 [26:23<00:00, 28.79s/it]\n"
     ]
    }
   ],
   "source": [
    "raw_openai_responses = []\n",
    "for x in tqdm(benchmark.items):\n",
    "    raw_openai_responses.append(get_openai_rag_response(x, assistant))"
   ]
  },
  {
   "cell_type": "code",
   "execution_count": 23,
   "metadata": {
    "id": "AQkJHWBmHKD2"
   },
   "outputs": [],
   "source": [
    "openai_responses = [\n",
    "    LLMResponse(\n",
    "        llm_answer=r, llm_context_list=[], benchmark_item=bi\n",
    "    ) for r, bi in zip(raw_openai_responses, benchmark.items)\n",
    "]"
   ]
  },
  {
   "cell_type": "code",
   "execution_count": null,
   "metadata": {
    "id": "4hyOfpizHKD2"
   },
   "outputs": [
    {
     "name": "stderr",
     "output_type": "stream",
     "text": [
      "Scoring responses:  13%|███████████████████████████████████████▍                                                                                                                                                                                                                                                                              | 7/55 [00:09<01:29,  1.87s/it]"
     ]
    }
   ],
   "source": [
    "scorer = ValidateScorer([AnswerSimilarityMetric()])\n",
    "openai_run = scorer.score_run(openai_responses, parallelism=5)"
   ]
  },
  {
   "cell_type": "code",
   "execution_count": 15,
   "metadata": {
    "id": "TK-JuvgfHKD2"
   },
   "outputs": [],
   "source": [
    "openai_run_df = run_to_dataframe(openai_run)\n",
    "openai_run_df.to_csv(\"openai_run.csv\", index=False)"
   ]
  },
  {
   "cell_type": "code",
   "execution_count": 7,
   "metadata": {
    "id": "wqz2640HHKD2"
   },
   "outputs": [
    {
     "ename": "NameError",
     "evalue": "name 'openai_run' is not defined",
     "output_type": "error",
     "traceback": [
      "\u001b[0;31m---------------------------------------------------------------------------\u001b[0m",
      "\u001b[0;31mNameError\u001b[0m                                 Traceback (most recent call last)",
      "Cell \u001b[0;32mIn[7], line 1\u001b[0m\n\u001b[0;32m----> 1\u001b[0m openai_answer_similarity_scores \u001b[38;5;241m=\u001b[39m pd\u001b[38;5;241m.\u001b[39mSeries([x\u001b[38;5;241m.\u001b[39mscores[\u001b[38;5;124m\"\u001b[39m\u001b[38;5;124manswer_similarity\u001b[39m\u001b[38;5;124m\"\u001b[39m] \u001b[38;5;28;01mfor\u001b[39;00m x \u001b[38;5;129;01min\u001b[39;00m \u001b[43mopenai_run\u001b[49m\u001b[38;5;241m.\u001b[39mrun_data])\n\u001b[1;32m      2\u001b[0m category_counts \u001b[38;5;241m=\u001b[39m openai_answer_similarity_scores\u001b[38;5;241m.\u001b[39mvalue_counts()\n\u001b[1;32m      3\u001b[0m plt\u001b[38;5;241m.\u001b[39mbar(category_counts\u001b[38;5;241m.\u001b[39mindex, category_counts\u001b[38;5;241m.\u001b[39mvalues)\n",
      "\u001b[0;31mNameError\u001b[0m: name 'openai_run' is not defined"
     ]
    }
   ],
   "source": [
    "openai_answer_similarity_scores = pd.Series([x.scores[\"answer_similarity\"] for x in openai_run.run_data])\n",
    "category_counts = openai_answer_similarity_scores.value_counts()\n",
    "plt.bar(category_counts.index, category_counts.values)\n",
    "\n",
    "plt.title('Distribution of scores for OpenAI')\n",
    "plt.xlabel('Score')\n",
    "plt.ylabel('Count')\n",
    "\n",
    "plt.bar(category_counts.index, category_counts.values, color='#A679C8')\n",
    "\n",
    "# Remove all scores except whole numbers\n",
    "plt.xticks(range(0, 6, 1))\n",
    "\n",
    "plt.show()"
   ]
  },
  {
   "cell_type": "code",
   "execution_count": 6,
   "metadata": {
    "id": "Y0CBqhk7HKD2"
   },
   "outputs": [
    {
     "data": {
      "image/png": "[encoded data removed]",
      "text/plain": [
       "<Figure size 1000x500 with 1 Axes>"
      ]
     },
     "metadata": {},
     "output_type": "display_data"
    }
   ],
   "source": [
    "import matplotlib.pyplot as plt\n",
    "import numpy as np\n",
    "\n",
    "openai_run_df = pd.read_csv(\"openai_run.csv\")\n",
    "cb_run_df = pd.read_csv(\"cb_run.csv\")\n",
    "\n",
    "combined_scores = pd.DataFrame({\n",
    "    \"OpenAI\": list(openai_run_df[\"answer_similarity\"]),\n",
    "    \"ChatBees\": list(cb_run_df[\"answer_similarity\"])\n",
    "})\n",
    "\n",
    "# Position of bars on x-axis\n",
    "ind = np.arange(6)\n",
    "\n",
    "# Figure size\n",
    "plt.figure(figsize=(10,5))\n",
    "\n",
    "# Width of a bar\n",
    "width = 0.3\n",
    "\n",
    "openai_counts = combined_scores[\"OpenAI\"].value_counts().reindex([0,1,2,3,4,5], fill_value=0)\n",
    "plt.bar(openai_counts.index, openai_counts.values, width, label=\"OpenAI\", color=\"#5EA7EC\")\n",
    "\n",
    "cb_counts = combined_scores[\"ChatBees\"].value_counts().reindex([0,1,2,3,4,5], fill_value=0)\n",
    "plt.bar(cb_counts.index + width, cb_counts.values, width, label=\"ChatBees\", color=\"#A679C8\")\n",
    "\n",
    "plt.title('Distribution of scores for OpenAI & ChatBees')\n",
    "plt.xlabel('Answer Similarity Score')\n",
    "plt.ylabel('Count')\n",
    "\n",
    "# Remove all scores except whole numbers\n",
    "plt.xticks(ind + width / 2, range(0, 6, 1))\n",
    "\n",
    "plt.legend(loc='best')\n",
    "\n",
    "# Rounding the descriptive statistics to 3 significant figures\n",
    "statistics_df = combined_scores.describe()\n",
    "# Change 50% to 50% (median)\n",
    "statistics_df = statistics_df.rename(index={'50%': 'median'})\n",
    "rounded_statistics_df = statistics_df.round(3)\n",
    "\n",
    "# Transposing the descriptive statistics table for horizontal display\n",
    "rounded_statistics_df = rounded_statistics_df.T\n",
    "\n",
    "# Adding the table below the histogram\n",
    "table = plt.table(cellText=rounded_statistics_df.values,\n",
    "                  colWidths=[0.1] * len(rounded_statistics_df.columns),\n",
    "                  rowLabels=rounded_statistics_df.index,\n",
    "                  colLabels=rounded_statistics_df.columns,\n",
    "                  cellLoc = 'center', rowLoc = 'center',\n",
    "                  loc='bottom', bbox=[0.0, -0.5, 1.0, 0.3])\n",
    "\n",
    "plt.subplots_adjust(left=0.2, bottom=0.3)\n",
    "plt.savefig(\"openai_v_chatbees.png\", facecolor='white', bbox_inches='tight')\n",
    "\n",
    "plt.show()"
   ]
  },
  {
   "cell_type": "code",
   "execution_count": null,
   "metadata": {},
   "outputs": [],
   "source": []
  }
 ],
 "metadata": {
  "colab": {
   "provenance": []
  },
  "kernelspec": {
   "display_name": "Python 3 (ipykernel)",
   "language": "python",
   "name": "python3"
  },
  "language_info": {
   "codemirror_mode": {
    "name": "ipython",
    "version": 3
   },
   "file_extension": ".py",
   "mimetype": "text/x-python",
   "name": "python",
   "nbconvert_exporter": "python",
   "pygments_lexer": "ipython3",
   "version": "3.12.2"
  }
 },
 "nbformat": 4,
 "nbformat_minor": 4
}
